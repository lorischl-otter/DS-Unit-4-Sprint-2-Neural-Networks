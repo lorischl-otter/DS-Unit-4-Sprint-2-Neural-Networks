{
 "cells": [
  {
   "cell_type": "markdown",
   "metadata": {
    "colab_type": "text",
    "id": "dVfaLrjLvxvQ"
   },
   "source": [
    "<img align=\"left\" src=\"https://lever-client-logos.s3.amazonaws.com/864372b1-534c-480e-acd5-9711f850815c-1524247202159.png\" width=200>\n",
    "<br></br>\n",
    "<br></br>\n",
    "\n",
    "# Neural Networks\n",
    "\n",
    "## *Data Science Unit 4 Sprint 2 Assignment 1*"
   ]
  },
  {
   "cell_type": "markdown",
   "metadata": {
    "colab_type": "text",
    "id": "wxtoY12mwmih"
   },
   "source": [
    "## Define the Following:\n",
    "You can add image, diagrams, whatever you need to ensure that you understand the concepts below.\n",
    "\n",
    "### Input Layer:\n",
    "The input layer represents the actual, \"raw\" data that you input into the neural network. There is one node per variable that you want to input. \n",
    "### Hidden Layer:\n",
    "The hidden layers are those layers that do the actual transforming of the input data, using weights and biases (different weights & biases per layer), based on how the neural network has been trained. Depending on the complexity of the neural network/data, you may have more hidden layers. They are called hidden layers because we don't 'see' how they work -- they happen 'under the hood'. \n",
    "### Output Layer:\n",
    "The output layer is the resulting output from the neural network, and it will be a value from 0 to 1. Depending on the NN you're using and the problem you're trying to answer, there can be one or more nodes in the output layer.\n",
    "### Neuron:\n",
    "The neurons, or nodes, of a neural network, act like a function. They receive data (one number) as input, and transform it based on the given weights and biases, and pass the new value on to the next neuron/node. \n",
    "### Weight:\n",
    "The weight is a number in a given layer that is multiplied by the incoming value, in order to transform it to pass on to the next layer of neurons. Weights are tuned as part of the training process for the neural network.\n",
    "### Activation Function:\n",
    "The activation function is what is housed within each node that determines what/\"how much\" to pass along to the next layer of nodes. It is called an activation function because it's based on activation of biological neurons, which are only activated after a certain threshold is met. With artificial neural networks, the node uses the activation function to transform its data (commonly using a Sigmoid function or Relu function) to determine which value to pass on to the next layer. \n",
    "### Node Map:\n",
    "A node map is a visual representation of a neural network, to help understand the relationship between the node layers, and which types of nodes they are, and how it all flows together.\n",
    "### Perceptron:\n",
    "A perceptron is the most basic kind of neural network. It consists of any number of inputs, and creates a single output, with no hidden layers. The perceptron is best at categorizing linearly separable data. "
   ]
  },
  {
   "cell_type": "markdown",
   "metadata": {
    "colab_type": "text",
    "id": "NXuy9WcWzxa4"
   },
   "source": [
    "## Inputs -> Outputs\n",
    "\n",
    "### Explain the flow of information through a neural network from inputs to outputs. Be sure to include: inputs, weights, bias, and activation functions. How does it all flow from beginning to end?"
   ]
  },
  {
   "cell_type": "markdown",
   "metadata": {
    "colab_type": "text",
    "id": "PlSwIJMC0A8F"
   },
   "source": [
    "A neural network first receives data input, from at least two variables, and usually more. This is the data you pass into your code. Each variable goes into a node, and from there is put through a series of layers (depending on the network). Each node within a given layer receives input from the previous layer (beginning with the input layer), and then multiplies that value by the weight, adds the bias, and then puts the value through the activation function in order to determine what value to pass to the next layer, which then repeats the process until an output (or many outputs) of 0 to 1 is provided, which can then be used to apply back to your data."
   ]
  },
  {
   "cell_type": "markdown",
   "metadata": {
    "colab_type": "text",
    "id": "6sWR43PTwhSk"
   },
   "source": [
    "## Write your own perceptron code that can correctly classify (99.0% accuracy) a NAND gate. \n",
    "\n",
    "| x1 | x2 | y |\n",
    "|----|----|---|\n",
    "| 0  | 0  | 1 |\n",
    "| 1  | 0  | 1 |\n",
    "| 0  | 1  | 1 |\n",
    "| 1  | 1  | 0 |"
   ]
  },
  {
   "cell_type": "code",
   "execution_count": 5,
   "metadata": {},
   "outputs": [],
   "source": [
    "# Imports\n",
    "import pandas as pd\n",
    "import numpy as np"
   ]
  },
  {
   "cell_type": "code",
   "execution_count": 1,
   "metadata": {},
   "outputs": [],
   "source": [
    "data = { 'x1': [0,1,0,1],\n",
    "         'x2': [0,0,1,1],\n",
    "         'y':  [1,1,1,0]\n",
    "       }\n",
    "\n",
    "df = pd.DataFrame.from_dict(data).astype('int')"
   ]
  },
  {
   "cell_type": "code",
   "execution_count": 10,
   "metadata": {
    "colab": {},
    "colab_type": "code",
    "id": "Sgh7VFGwnXGH"
   },
   "outputs": [],
   "source": [
    "# Create Sigmoid activation function\n",
    "def sigmoid(x):\n",
    "    return 1 / (1 + np.exp(-x))\n",
    "\n",
    "# Create Sigmoid dertivative function\n",
    "def sigmoid_derivative(x):\n",
    "    sx = sigmoid(x)\n",
    "    return sx * (1-sx)"
   ]
  },
  {
   "cell_type": "code",
   "execution_count": 39,
   "metadata": {},
   "outputs": [],
   "source": [
    "# Initialize random weights\n",
    "weights = np.array([0.0,0.0,0.0])\n",
    "\n",
    "# Define inputs, including an extra column of noise to help\n",
    "# Perceptron sort through data\n",
    "inputs = np.array([\n",
    "    [0, 0, 1],\n",
    "    [1, 0, 1],\n",
    "    [0, 1, 1],\n",
    "    [1, 1, 1]\n",
    "])\n",
    "\n",
    "# Define correct outputs\n",
    "correct_outputs = np.array(df.y)"
   ]
  },
  {
   "cell_type": "code",
   "execution_count": 40,
   "metadata": {},
   "outputs": [
    {
     "data": {
      "text/plain": [
       "array([1, 1, 1, 0])"
      ]
     },
     "execution_count": 40,
     "metadata": {},
     "output_type": "execute_result"
    }
   ],
   "source": [
    "correct_outputs"
   ]
  },
  {
   "cell_type": "code",
   "execution_count": 27,
   "metadata": {},
   "outputs": [
    {
     "data": {
      "text/plain": [
       "numpy.float64"
      ]
     },
     "execution_count": 27,
     "metadata": {},
     "output_type": "execute_result"
    }
   ],
   "source": [
    "type(weights[0])"
   ]
  },
  {
   "cell_type": "code",
   "execution_count": 41,
   "metadata": {},
   "outputs": [
    {
     "name": "stdout",
     "output_type": "stream",
     "text": [
      "Weights after training\n",
      "[-11.83940805 -11.83940805  17.80797679]\n",
      "Output after training\n",
      "[0.99999998 0.99744837 0.99744837 0.00281285]\n"
     ]
    }
   ],
   "source": [
    "# Create perceptron in for loop...\n",
    "for iteration in range(10000):\n",
    "    \n",
    "    # Weighted sum of inputs / weights\n",
    "    weighted_sum = np.dot(inputs, weights)\n",
    "    \n",
    "    # Activate the Sigmoid function\n",
    "    activated_output = sigmoid(weighted_sum)\n",
    "    \n",
    "    # Calculate error\n",
    "    error = correct_outputs - activated_output\n",
    "    \n",
    "    # Adjust error\n",
    "    adjustments = error * sigmoid_derivative(activated_output)\n",
    "    \n",
    "    # Update the weights\n",
    "    weights += np.dot(inputs.T, adjustments)\n",
    "    \n",
    "print(\"Weights after training\")\n",
    "print(weights)\n",
    "\n",
    "print(\"Output after training\")\n",
    "print(activated_output)"
   ]
  },
  {
   "cell_type": "code",
   "execution_count": null,
   "metadata": {},
   "outputs": [],
   "source": []
  },
  {
   "cell_type": "markdown",
   "metadata": {
    "colab_type": "text",
    "id": "Xf7sdqVs0s4x"
   },
   "source": [
    "## Implement your own Perceptron Class and use it to classify a binary dataset: \n",
    "- [The Pima Indians Diabetes dataset](https://raw.githubusercontent.com/ryanleeallred/datasets/master/diabetes.csv) \n",
    "\n",
    "You may need to search for other's implementations in order to get inspiration for your own. There are *lots* of perceptron implementations on the internet with varying levels of sophistication and complexity. Whatever your approach, make sure you understand **every** line of your implementation and what its purpose is."
   ]
  },
  {
   "cell_type": "code",
   "execution_count": 42,
   "metadata": {},
   "outputs": [
    {
     "data": {
      "text/html": [
       "<div>\n",
       "<style scoped>\n",
       "    .dataframe tbody tr th:only-of-type {\n",
       "        vertical-align: middle;\n",
       "    }\n",
       "\n",
       "    .dataframe tbody tr th {\n",
       "        vertical-align: top;\n",
       "    }\n",
       "\n",
       "    .dataframe thead th {\n",
       "        text-align: right;\n",
       "    }\n",
       "</style>\n",
       "<table border=\"1\" class=\"dataframe\">\n",
       "  <thead>\n",
       "    <tr style=\"text-align: right;\">\n",
       "      <th></th>\n",
       "      <th>Pregnancies</th>\n",
       "      <th>Glucose</th>\n",
       "      <th>BloodPressure</th>\n",
       "      <th>SkinThickness</th>\n",
       "      <th>Insulin</th>\n",
       "      <th>BMI</th>\n",
       "      <th>DiabetesPedigreeFunction</th>\n",
       "      <th>Age</th>\n",
       "      <th>Outcome</th>\n",
       "    </tr>\n",
       "  </thead>\n",
       "  <tbody>\n",
       "    <tr>\n",
       "      <td>0</td>\n",
       "      <td>6</td>\n",
       "      <td>148</td>\n",
       "      <td>72</td>\n",
       "      <td>35</td>\n",
       "      <td>0</td>\n",
       "      <td>33.6</td>\n",
       "      <td>0.627</td>\n",
       "      <td>50</td>\n",
       "      <td>1</td>\n",
       "    </tr>\n",
       "    <tr>\n",
       "      <td>1</td>\n",
       "      <td>1</td>\n",
       "      <td>85</td>\n",
       "      <td>66</td>\n",
       "      <td>29</td>\n",
       "      <td>0</td>\n",
       "      <td>26.6</td>\n",
       "      <td>0.351</td>\n",
       "      <td>31</td>\n",
       "      <td>0</td>\n",
       "    </tr>\n",
       "    <tr>\n",
       "      <td>2</td>\n",
       "      <td>8</td>\n",
       "      <td>183</td>\n",
       "      <td>64</td>\n",
       "      <td>0</td>\n",
       "      <td>0</td>\n",
       "      <td>23.3</td>\n",
       "      <td>0.672</td>\n",
       "      <td>32</td>\n",
       "      <td>1</td>\n",
       "    </tr>\n",
       "    <tr>\n",
       "      <td>3</td>\n",
       "      <td>1</td>\n",
       "      <td>89</td>\n",
       "      <td>66</td>\n",
       "      <td>23</td>\n",
       "      <td>94</td>\n",
       "      <td>28.1</td>\n",
       "      <td>0.167</td>\n",
       "      <td>21</td>\n",
       "      <td>0</td>\n",
       "    </tr>\n",
       "    <tr>\n",
       "      <td>4</td>\n",
       "      <td>0</td>\n",
       "      <td>137</td>\n",
       "      <td>40</td>\n",
       "      <td>35</td>\n",
       "      <td>168</td>\n",
       "      <td>43.1</td>\n",
       "      <td>2.288</td>\n",
       "      <td>33</td>\n",
       "      <td>1</td>\n",
       "    </tr>\n",
       "  </tbody>\n",
       "</table>\n",
       "</div>"
      ],
      "text/plain": [
       "   Pregnancies  Glucose  BloodPressure  SkinThickness  Insulin   BMI  \\\n",
       "0            6      148             72             35        0  33.6   \n",
       "1            1       85             66             29        0  26.6   \n",
       "2            8      183             64              0        0  23.3   \n",
       "3            1       89             66             23       94  28.1   \n",
       "4            0      137             40             35      168  43.1   \n",
       "\n",
       "   DiabetesPedigreeFunction  Age  Outcome  \n",
       "0                     0.627   50        1  \n",
       "1                     0.351   31        0  \n",
       "2                     0.672   32        1  \n",
       "3                     0.167   21        0  \n",
       "4                     2.288   33        1  "
      ]
     },
     "execution_count": 42,
     "metadata": {},
     "output_type": "execute_result"
    }
   ],
   "source": [
    "diabetes = pd.read_csv('https://raw.githubusercontent.com/ryanleeallred/datasets/master/diabetes.csv')\n",
    "diabetes.head()"
   ]
  },
  {
   "cell_type": "markdown",
   "metadata": {},
   "source": [
    "Although neural networks can handle non-normalized data, scaling or normalizing your data will improve your neural network's learning speed. Try to apply the sklearn `MinMaxScaler` or `Normalizer` to your diabetes dataset. "
   ]
  },
  {
   "cell_type": "code",
   "execution_count": 68,
   "metadata": {},
   "outputs": [],
   "source": [
    "from sklearn.preprocessing import MinMaxScaler, Normalizer\n",
    "\n",
    "feats = list(diabetes)[:-1]\n",
    "\n",
    "X = diabetes[feats]\n",
    "\n",
    "normalized = Normalizer().fit_transform(X)"
   ]
  },
  {
   "cell_type": "code",
   "execution_count": 45,
   "metadata": {},
   "outputs": [
    {
     "data": {
      "text/plain": [
       "['Pregnancies',\n",
       " 'Glucose',\n",
       " 'BloodPressure',\n",
       " 'SkinThickness',\n",
       " 'Insulin',\n",
       " 'BMI',\n",
       " 'DiabetesPedigreeFunction',\n",
       " 'Age']"
      ]
     },
     "execution_count": 45,
     "metadata": {},
     "output_type": "execute_result"
    }
   ],
   "source": [
    "feats"
   ]
  },
  {
   "cell_type": "code",
   "execution_count": 60,
   "metadata": {},
   "outputs": [
    {
     "data": {
      "text/plain": [
       "array([0., 0., 0., 0., 0., 0., 0., 0., 0.])"
      ]
     },
     "execution_count": 60,
     "metadata": {},
     "output_type": "execute_result"
    }
   ],
   "source": [
    "np.zeros(1+ diabetes[feats].shape[1])"
   ]
  },
  {
   "cell_type": "code",
   "execution_count": 91,
   "metadata": {
    "colab": {},
    "colab_type": "code",
    "id": "-W0tiX1F1hh2"
   },
   "outputs": [],
   "source": [
    "##### Update this Class #####\n",
    "\n",
    "class Perceptron(object):\n",
    "    \n",
    "    def __init__(self, niter = 10):\n",
    "        self.niter = niter\n",
    "    \n",
    "    def __sigmoid(self, x):\n",
    "        return 1 / (1 + np.exp(-x))\n",
    "    \n",
    "    def __sigmoid_derivative(self, x):\n",
    "        sx = sigmoid(x)\n",
    "        return sx * (1-sx)\n",
    "\n",
    "    def fit(self, X, y):\n",
    "        \"\"\"\n",
    "        Fit training data\n",
    "        X : Training vectors, X.shape : [#samples, #features]\n",
    "        y : Target values, y.shape : [#samples]\n",
    "        \"\"\"    \n",
    "        # Initialize Weights as Zeros\n",
    "        self.weights = np.zeros(X.shape[1])\n",
    "        \n",
    "        for i in range(self.niter):\n",
    "            # Weighted sum of inputs / weights\n",
    "            weighted_sum = np.dot(X, self.weights)\n",
    "\n",
    "            # Activate!\n",
    "            activated_output = sigmoid(weighted_sum)\n",
    "            \n",
    "            # Cac error\n",
    "            error = y - activated_output\n",
    "\n",
    "            # Update the Weights\n",
    "            adjustments = error * sigmoid_derivative(activated_output)\n",
    "            self.weights += np.dot(X.T, adjustments)\n",
    "        \n",
    "        return self.weights\n",
    "\n",
    "    def predict(self, X):\n",
    "        \"\"\"Return class label after unit step\"\"\"\n",
    "        calculations = np.dot(X, self.weights)\n",
    "        return np.where(calculations >= .5, 1, 0)"
   ]
  },
  {
   "cell_type": "code",
   "execution_count": 90,
   "metadata": {},
   "outputs": [],
   "source": [
    "# Define X training vectors and y target values\n",
    "X = Normalizer().fit_transform(diabetes[feats])\n",
    "y = diabetes['Outcome']"
   ]
  },
  {
   "cell_type": "code",
   "execution_count": 115,
   "metadata": {},
   "outputs": [
    {
     "data": {
      "text/plain": [
       "array([ 30.0738127 , -14.71242511, -93.98387466, -13.61855156,\n",
       "       -16.99418773,  -0.87510791,   1.04191842,  -5.00087061])"
      ]
     },
     "execution_count": 115,
     "metadata": {},
     "output_type": "execute_result"
    }
   ],
   "source": [
    "perceptron = Perceptron(150)\n",
    "weights = perceptron.fit(X, y)\n",
    "weights"
   ]
  },
  {
   "cell_type": "code",
   "execution_count": 100,
   "metadata": {
    "collapsed": true,
    "jupyter": {
     "outputs_hidden": true
    }
   },
   "outputs": [
    {
     "data": {
      "text/plain": [
       "array([ 38.76344526,  27.88956287,  45.4972655 ,  33.82485312,\n",
       "        43.56429432,  34.49818687,  35.56675348,  57.02673109,\n",
       "        32.64241943,  29.2831833 ,  27.61650995,  42.11930082,\n",
       "        36.90471111,  27.98399562,  42.45816651,  56.63618583,\n",
       "        31.09759131,  32.7733528 ,  45.67548569,  37.95060129,\n",
       "        31.74486781,  27.77645555,  41.23516411,  31.80658534,\n",
       "        36.71753472,  39.79927045,  39.10246097,  34.21995595,\n",
       "        40.47976322,  29.3991166 ,  31.51751159,  37.24297707,\n",
       "        37.4812569 ,  22.54492538,  33.42541865,  33.86540356,\n",
       "        38.03051004,  29.24135267,  27.50616317,  32.80233432,\n",
       "        47.55314484,  34.84095712,  26.29463553,  35.67269237,\n",
       "        43.52575531,  42.92626837,  43.96218644,  21.56723334,\n",
       "        32.78562443,  57.23506028,  33.58678276,  42.34026954,\n",
       "        32.45233696,  36.31668333,  34.00525688,  32.12589852,\n",
       "        39.18360555,  28.72774008,  37.06968617,  35.11158514,\n",
       "        56.85168418,  38.28019155,  14.69981124,  43.09043975,\n",
       "        36.81953154,  29.47681003,  27.24182079,  27.54733631,\n",
       "        35.40925542,  39.38183262,  36.77774634,  41.2725634 ,\n",
       "        32.23578756,  31.70245176,  22.39164229, -16.50430779,\n",
       "        17.50180377,  28.55858752,  56.36334147,  35.064118  ,\n",
       "        43.31884408,  56.615469  ,  29.30475945,  32.36075531,\n",
       "        29.20219281,  35.33360599,  30.14456135,  36.05276004,\n",
       "        41.49326909,  33.47623881,  32.48497207,  35.2683936 ,\n",
       "        26.94823701,  37.87341723,  39.54495098,  37.24180729,\n",
       "        31.38774232,  35.61697583,  40.1377864 ,  31.10783874,\n",
       "        41.66053844,  43.29600861,  29.09008029,  29.33873077,\n",
       "        29.88626318,  40.27844449,  14.94057571,  43.47827654,\n",
       "        32.48873106,  28.08149375,  43.81088221,  30.91501486,\n",
       "        28.87508114,  28.47894536,  44.19373649,  34.652097  ,\n",
       "        36.0694902 ,  35.26127847,  33.91212058,  33.47459621,\n",
       "        41.46038383,  34.41925653,  35.24111564,  35.25957745,\n",
       "        32.81022922,  41.04441223,  37.69526428,  40.95904862,\n",
       "        33.53183984,  28.58472296,  43.8025723 ,  41.47150161,\n",
       "        41.02763393,  25.28981297,  35.50674931,  40.63690217,\n",
       "        34.77837352,  36.3592361 ,  34.7947325 ,  28.38549845,\n",
       "        35.25401147,  28.62723674,  42.37665681,  35.81380703,\n",
       "        36.79961219,  28.59344835,  13.05750319,  36.82898153,\n",
       "        38.21772095,  28.62529884,  35.72877979,  36.98224163,\n",
       "        39.65434518,  29.1660625 ,  42.98638565,  34.90477816,\n",
       "        40.42970025,  38.77426954,  31.22964459,  43.91704063,\n",
       "        34.46671758,  34.14484935,  29.67565984,  33.00444452,\n",
       "        32.92795344,  33.91237198,  40.54779047,  37.14141039,\n",
       "        35.88253328,  32.846128  ,  28.96278929,  40.46127729,\n",
       "        53.90811807,  31.24272137,  31.00659752,  44.7290908 ,\n",
       "        25.64882945,  30.44399557,  37.87108015,  34.78367519,\n",
       "        25.29367084,  40.6397673 , -15.28437031,  28.48348642,\n",
       "        38.67292924,  44.6868071 ,  32.82535808,  32.15825356,\n",
       "        34.78414718,  37.54953049,  37.23715888,  38.92016927,\n",
       "        43.04224463,  56.04535537,  33.25716243,  37.58021466,\n",
       "        37.38483466,  39.83200943,  37.40985023,  35.10610595,\n",
       "        30.90921446,  35.76245496,  33.7011814 ,  35.14297488,\n",
       "        32.61663667,  32.73598815,  40.603616  ,  34.33650726,\n",
       "        35.93190274,  40.35743994,  29.53298425,  33.64741011,\n",
       "        37.62013163,  41.81362614,  32.88129568,  36.48643318,\n",
       "        37.09491622,  39.62339822,  25.8579885 ,  36.27972107,\n",
       "        32.86636415,  36.70345214,  57.11415297,  40.36183644,\n",
       "        37.1000364 ,  27.75219584,  30.12890658,  44.62612952,\n",
       "        29.08438625,  35.00598371,  35.31518728,  30.44099941,\n",
       "        25.06917927,  37.41865799,  28.36880782,  42.46571576,\n",
       "        41.7294271 ,  38.24085494,  38.65207309,  30.71222007,\n",
       "        30.5538878 ,  32.95770043,  43.81461284,  39.52406844,\n",
       "        37.88553225,  40.88601877,  37.78996307,  26.9521094 ,\n",
       "        29.17997936,  28.57329851,  40.09975848,  33.69089692,\n",
       "        30.08417278,  27.02849556,  30.17905985,  34.78850999,\n",
       "        36.86686283,  34.84990422,  38.31677082,  41.54244946,\n",
       "        47.19845278,  57.33997406,  29.17033136,  36.53828443,\n",
       "        39.49554063,  34.06996603,  56.90056909,  36.99689215,\n",
       "        38.96236585,  57.35841006,  26.04356047,  38.79603308,\n",
       "        34.32824648,  21.83193915,  34.05993717,  33.00599255,\n",
       "        36.13896163,  36.85178018,  33.92054266,  31.14113785,\n",
       "        40.09609742,  38.8324008 ,  36.31964947,  38.41529391,\n",
       "        30.74352599,  39.78860339,  28.36073055,  31.49204889,\n",
       "        39.66628871,  35.62126537,  22.11869625,  38.7476516 ,\n",
       "        35.46760332,  39.03017139,  46.07841335,  44.30257757,\n",
       "        32.31266319,  32.96553609,  31.70212427,  34.24167547,\n",
       "        57.23316359,  43.26263291,  23.820532  ,  27.04063617,\n",
       "        39.20795495,  36.83305414,  44.38612376,  40.27440177,\n",
       "        37.44507737,  35.64735645,  26.69164399,  34.08340666,\n",
       "        43.25955446,  44.21735945,  30.01639787,  38.34153578,\n",
       "        32.81517169,  43.04710047,  36.98623651,  43.29172095,\n",
       "        36.66791558,  32.07275569,  36.20148165,  37.56642719,\n",
       "        31.4466347 ,  41.19576035,  38.09393688,  44.05255693,\n",
       "        30.80422757,  36.41826724,  34.95018047,  36.83292398,\n",
       "        56.99905959,  30.85608049,  37.83285076,  37.50864822,\n",
       "        55.77326263,  33.75968513,  39.60104968,  40.78673195,\n",
       "        40.69286975,  33.45327086, -18.35047837,  32.10914739,\n",
       "        30.44189441,  35.65732645,  48.02258247,  57.40472689,\n",
       "        38.07834855, -16.17005295,  26.70045121,  35.25764213,\n",
       "        14.38591019,  36.03399629,  26.47799704,  38.51589331,\n",
       "        40.03695475,  54.68152353,  30.67448014,  41.18032149,\n",
       "        38.73036916,  41.54971596,  20.75008287,  37.98020814,\n",
       "        34.62246156,  39.83963246,  36.65534323,  33.44230622,\n",
       "        26.01405725,  33.52655937,  31.36547675,  39.56046447,\n",
       "        33.46547845,  38.45485586,  39.64217269,  32.27838474,\n",
       "        31.79189766,  34.426636  ,  40.17828478,  24.78585321,\n",
       "        35.94639384,  32.62805022,  35.74077042,  36.07138874,\n",
       "        39.38361565,  44.24187405,  33.2738996 ,  23.28748385,\n",
       "        34.05353016,  36.26364526,  32.49862976,  41.0744537 ,\n",
       "        29.76069125,  38.72669834,  39.78045325,  34.25774057,\n",
       "        36.96252701,  36.96985998,  27.0381207 ,  43.73825919,\n",
       "        33.27931803,  41.53125306,  37.72695875,  20.29705176,\n",
       "        44.26907006,  40.5712667 ,  34.90980783,  35.05658458,\n",
       "        44.48931055,  29.8636752 ,  24.51075665,  34.09418496,\n",
       "        32.42269866,  41.46583152,  40.27960105,  31.13111227,\n",
       "        30.92802964,  35.76910627,  27.97573856,  41.11918761,\n",
       "        32.44328973,  35.01667947,  35.76291292,  36.23894273,\n",
       "        38.03916503,  38.7067179 ,  56.56661078,  44.53270067,\n",
       "        34.26719382,  29.65620204,  57.18895606,  32.46021634,\n",
       "        29.58097636,  37.90432346,  29.98833628,  56.60208036,\n",
       "        34.72521951,  39.18148037,  30.40031872,  28.24437927,\n",
       "        36.78533026,  32.3048214 ,  39.12468935,  34.40935717,\n",
       "        38.09740141,  39.8259979 ,  35.50191091,  30.22758654,\n",
       "        36.98344599,  38.35839962,  33.102069  ,  38.51187429,\n",
       "        29.67904352,  53.42711771,  38.87716616,  44.60250597,\n",
       "        42.63157936,  32.74146441,  35.5957384 ,  39.32490038,\n",
       "        39.03464483,  26.45892075,  27.5100957 ,  24.93276   ,\n",
       "        27.27411248,  43.0167386 ,  35.5025172 ,  35.29402653,\n",
       "        56.95341175,  40.49341436,  34.99554159,  36.97402751,\n",
       "        35.84128664,  33.7450832 ,  37.25504887,  34.08934118,\n",
       "        30.6147824 ,  36.77349757,  38.83536315,  32.68052224,\n",
       "        35.01777081,  29.78837891,  36.07528327,  27.71554931,\n",
       "        56.55528864,  34.85781753,  29.19701756,  38.46204171,\n",
       "        30.61711073,  42.89170248,  32.66220513,  21.45317549,\n",
       "        30.54911419,  39.61677597,  56.83204212,  41.45154036,\n",
       "        35.28341599,  30.76414124,  46.35967981,  39.56709068,\n",
       "        33.36292428,  25.32979484, -13.48025034,  36.32970865,\n",
       "        26.56622561,  21.20342734,  42.37044163,  39.40458912,\n",
       "        38.07863209,  33.91505827,  26.18779863,  38.30154589,\n",
       "        30.69548091,  32.76211854,  40.14545195,  44.84523924,\n",
       "        37.38835473,  32.88248105,  29.9805157 ,  30.29148266,\n",
       "        26.19851912,  36.22676604,  57.14916427,  38.40008785,\n",
       "        40.89897661,  31.57531319,  36.59986634,  37.52969186,\n",
       "        35.23422493,  36.16447881,  41.70761246,  31.40173477,\n",
       "        31.01874357,  56.25550956,  33.75403131,  57.24424637,\n",
       "        26.91732104,  21.07524998,  33.69131338,  33.56324358,\n",
       "        30.6585742 ,  36.357285  ,  23.76344682,  25.16028186,\n",
       "        30.06746113,  39.75655557,  42.69753448,  38.75633856,\n",
       "        41.39587506,  35.41785467,  34.03698592,  31.64977381,\n",
       "        29.78215896,  34.73272616,  32.76734827,  34.98385087,\n",
       "        28.95180343,  32.6576771 ,  31.67516602,  27.32075533,\n",
       "        35.5872927 ,  41.48088453,  32.32084031,  39.01255316,\n",
       "        26.07450376,  39.41441344,  31.45186671,  34.64603028,\n",
       "        42.60361496,  37.23727806,  26.08110349,  30.21878295,\n",
       "        40.4603542 ,  36.81169974,  31.41196478,  44.32417025,\n",
       "        41.92730019,  32.6038261 ,  39.51677183,  39.69749219,\n",
       "        33.54048317,  36.41834436,  33.82658032,  30.57671497,\n",
       "        25.76284777,  35.09569842,  41.29201293,  34.54041349,\n",
       "        41.82346703,  56.04678647,  28.9427924 ,  33.35548597,\n",
       "        35.60580138,  35.31961819,  33.63612396,  42.48521361,\n",
       "        19.8475998 ,  49.33901047,  42.24212408,  43.8709094 ,\n",
       "        27.22791529,  57.10542312,  34.0110072 ,  41.14489079,\n",
       "        57.48419142,  38.22356604,  37.51576842,  35.49577058,\n",
       "        34.73017803,  35.66383869,  37.48708988,  44.25901825,\n",
       "        34.64111871,  28.92657095,  39.98108436,  32.88853511,\n",
       "        28.08590631,  26.98481543,  30.55647211,  56.81732185,\n",
       "        31.8249672 ,  26.99026002,  39.13536563,  33.14805072,\n",
       "        35.89027759,  25.91122615,  37.52087241,  35.70425413,\n",
       "        35.02641279,  31.34382766,  37.53394769,  32.58282134,\n",
       "        37.92568567,  34.97157557,  33.69704435,  33.13994843,\n",
       "        31.96678727,  32.54640516,  33.06898662,  34.22052313,\n",
       "        31.66651866,  37.71860052,  37.99372807,  56.22232056,\n",
       "        33.42970031,  31.21761883,  43.23214499,  46.91513575,\n",
       "        37.74308796,  35.70140784,  37.33436136,  40.72999083,\n",
       "        37.99906544,  41.46404838,  34.98613055,  30.20031012,\n",
       "        38.0462361 ,  32.99728093,  28.18145211,  26.5413556 ,\n",
       "        39.07626312,  42.30052071,  35.22979254,  39.2722455 ,\n",
       "        36.56918476,  33.33206991,  36.282749  ,  33.88051612,\n",
       "        33.75736923,  42.18732666,  43.18851599,  35.74092512,\n",
       "        16.11392319,  29.79681841,  26.03507315,  45.04500261,\n",
       "        37.7774912 ,  33.85979486,  42.15891851,  30.90101609,\n",
       "        26.43460356,  38.97709313,  34.40897681,  34.27974647,\n",
       "        34.66440895,  35.46169051,  39.72561665,  39.75831698,\n",
       "        37.92132734,  37.08561096,  30.84211163,  31.78750048,\n",
       "        38.76593929,  39.20566843,  33.35596953,  28.18979042,\n",
       "        44.14932989,  56.89870396,  35.21259098,  35.88650394,\n",
       "        34.31809786,  33.77231957,  37.67007918,  56.28734539,\n",
       "        35.97586311,  21.28146962,  57.20658994,  33.21027085,\n",
       "        40.76262317,  32.570137  ,  33.56639116,  36.24490271,\n",
       "        38.75051192,  34.43736681,  31.37673703,  37.3078442 ,\n",
       "        41.13682613,  29.53077274,  34.68623106,  28.41374676,\n",
       "        21.261171  ,  34.14796356,  42.62639704,  34.66903667,\n",
       "        27.29716287,  30.4446317 ,  33.65551224,  34.58905563,\n",
       "        38.96311653,  36.98276827,  39.05775637,  31.57255121,\n",
       "        41.42124619,  36.39092402,  31.54591936,  32.7049311 ,\n",
       "        35.45060975,  19.89736498,  34.9918651 ,  31.26301344,\n",
       "        35.48726873,  43.05692486,  39.48304657,  33.49279633,\n",
       "        39.15235194,  31.9091643 ,  32.44292482,  28.01684754,\n",
       "        43.65003353,  44.13018568,  38.89543206,  36.45684745,\n",
       "        35.55222085,  30.78677953,  38.38199173,  35.41071148,\n",
       "        32.21291265,  36.05811545,  31.39051901,  40.16559284,\n",
       "        34.06501158,  41.23836099,  32.84265265,  31.48281179,\n",
       "        35.44868983,  38.56100316,  40.23583896,  28.45256508])"
      ]
     },
     "execution_count": 100,
     "metadata": {},
     "output_type": "execute_result"
    }
   ],
   "source": [
    "np.dot(X, weights)"
   ]
  },
  {
   "cell_type": "code",
   "execution_count": 113,
   "metadata": {},
   "outputs": [],
   "source": [
    "predictions = perceptron.predict(X)"
   ]
  },
  {
   "cell_type": "code",
   "execution_count": 108,
   "metadata": {},
   "outputs": [
    {
     "data": {
      "text/plain": [
       "768"
      ]
     },
     "execution_count": 108,
     "metadata": {},
     "output_type": "execute_result"
    }
   ],
   "source": [
    "len(y)"
   ]
  },
  {
   "cell_type": "code",
   "execution_count": 116,
   "metadata": {},
   "outputs": [
    {
     "data": {
      "text/plain": [
       "192"
      ]
     },
     "execution_count": 116,
     "metadata": {},
     "output_type": "execute_result"
    }
   ],
   "source": [
    "sum(predictions - y)"
   ]
  },
  {
   "cell_type": "code",
   "execution_count": 87,
   "metadata": {},
   "outputs": [
    {
     "data": {
      "image/png": "[encoded data removed]",
      "text/plain": [
       "<Figure size 432x288 with 1 Axes>"
      ]
     },
     "metadata": {
      "needs_background": "light"
     },
     "output_type": "display_data"
    }
   ],
   "source": [
    "# Visualize training process\n",
    "import matplotlib.pyplot as plt\n",
    "pn = Perceptron()\n",
    "fit = pn.fit(normalized, y)\n",
    "plt.plot(range(1, len(pn.errors) + 1), pn.errors, marker='o')\n",
    "plt.xlabel('Epochs')\n",
    "plt.ylabel('Number of Errors')\n",
    "plt.show()"
   ]
  },
  {
   "cell_type": "code",
   "execution_count": 81,
   "metadata": {},
   "outputs": [
    {
     "data": {
      "text/plain": [
       "array([0, 0, 0, 0, 0, 0, 0, 0, 0, 0, 0, 0, 0, 0, 0, 0, 0, 0, 0, 0, 0, 0,\n",
       "       0, 0, 0, 0, 0, 0, 0, 0, 0, 0, 0, 0, 0, 0, 0, 0, 0, 0, 0, 0, 0, 0,\n",
       "       0, 0, 0, 0, 0, 0, 0, 0, 0, 0, 0, 0, 0, 0, 0, 0, 0, 0, 0, 0, 0, 0,\n",
       "       0, 0, 0, 0, 0, 0, 0, 0, 0, 0, 0, 0, 0, 0, 0, 0, 0, 0, 0, 0, 0, 0,\n",
       "       0, 0, 0, 0, 0, 0, 0, 0, 0, 0, 0, 0, 0, 0, 0, 0, 0, 0, 0, 0, 0, 0,\n",
       "       0, 0, 0, 0, 0, 0, 0, 0, 0, 0, 0, 0, 0, 0, 0, 0, 0, 0, 0, 0, 0, 0,\n",
       "       0, 0, 0, 0, 0, 0, 0, 0, 0, 0, 0, 0, 0, 0, 0, 0, 0, 0, 0, 0, 0, 0,\n",
       "       0, 0, 0, 0, 0, 0, 0, 0, 0, 0, 0, 0, 0, 0, 0, 0, 0, 0, 0, 0, 0, 0,\n",
       "       0, 0, 0, 0, 0, 0, 0, 0, 0, 0, 0, 0, 0, 0, 0, 0, 0, 0, 0, 0, 0, 0,\n",
       "       0, 0, 0, 0, 0, 0, 0, 0, 0, 0, 0, 0, 0, 0, 0, 0, 0, 0, 0, 0, 0, 0,\n",
       "       0, 0, 0, 0, 0, 0, 0, 0, 0, 0, 0, 0, 0, 0, 0, 0, 0, 0, 0, 0, 0, 0,\n",
       "       0, 0, 0, 0, 0, 0, 0, 0, 0, 0, 0, 0, 0, 0, 0, 0, 0, 0, 0, 0, 0, 0,\n",
       "       0, 0, 0, 0, 0, 0, 0, 0, 0, 0, 0, 0, 0, 0, 0, 0, 0, 0, 0, 0, 0, 0,\n",
       "       0, 0, 0, 0, 0, 0, 0, 0, 0, 0, 0, 0, 0, 0, 0, 0, 0, 0, 0, 0, 0, 0,\n",
       "       0, 0, 0, 0, 0, 0, 0, 0, 0, 0, 0, 0, 0, 0, 0, 0, 0, 0, 0, 0, 0, 0,\n",
       "       0, 0, 0, 0, 0, 0, 0, 0, 0, 0, 0, 0, 0, 0, 0, 0, 0, 0, 0, 0, 0, 0,\n",
       "       0, 0, 0, 0, 0, 0, 0, 0, 0, 0, 0, 0, 0, 0, 0, 0, 0, 0, 0, 0, 0, 0,\n",
       "       0, 0, 0, 0, 0, 0, 0, 0, 0, 0, 0, 0, 0, 0, 0, 0, 0, 0, 0, 0, 0, 0,\n",
       "       0, 0, 0, 0, 0, 0, 0, 0, 0, 0, 0, 0, 0, 0, 0, 0, 0, 0, 0, 0, 0, 0,\n",
       "       0, 0, 0, 0, 0, 0, 0, 0, 0, 0, 0, 0, 0, 0, 0, 0, 0, 0, 0, 0, 0, 0,\n",
       "       0, 0, 0, 0, 0, 0, 0, 0, 0, 0, 0, 0, 0, 0, 0, 0, 0, 0, 0, 0, 0, 0,\n",
       "       0, 0, 0, 0, 0, 0, 0, 0, 0, 0, 0, 0, 0, 0, 0, 0, 0, 0, 0, 0, 0, 0,\n",
       "       0, 0, 0, 0, 0, 0, 0, 0, 0, 0, 0, 0, 0, 0, 0, 0, 0, 0, 0, 0, 0, 0,\n",
       "       0, 0, 0, 0, 0, 0, 0, 0, 0, 0, 0, 0, 0, 0, 0, 0, 0, 0, 0, 0, 0, 0,\n",
       "       0, 0, 0, 0, 0, 0, 0, 0, 0, 0, 0, 0, 0, 0, 0, 0, 0, 0, 0, 0, 0, 0,\n",
       "       0, 0, 0, 0, 0, 0, 0, 0, 0, 0, 0, 0, 0, 0, 0, 0, 0, 0, 0, 0, 0, 0,\n",
       "       0, 0, 0, 0, 0, 0, 0, 0, 0, 0, 0, 0, 0, 0, 0, 0, 0, 0, 0, 0, 0, 0,\n",
       "       0, 0, 0, 0, 0, 0, 0, 0, 0, 0, 0, 0, 0, 0, 0, 0, 0, 0, 0, 0, 0, 0,\n",
       "       0, 0, 0, 0, 0, 0, 0, 0, 0, 0, 0, 0, 0, 0, 0, 0, 0, 0, 0, 0, 0, 0,\n",
       "       0, 0, 0, 0, 0, 0, 0, 0, 0, 0, 0, 0, 0, 0, 0, 0, 0, 0, 0, 0, 0, 0,\n",
       "       0, 0, 0, 0, 0, 0, 0, 0, 0, 0, 0, 0, 0, 0, 0, 0, 0, 0, 0, 0, 0, 0,\n",
       "       0, 0, 0, 0, 0, 0, 0, 0, 0, 0, 0, 0, 0, 0, 0, 0, 0, 0, 0, 0, 0, 0,\n",
       "       0, 0, 0, 0, 0, 0, 0, 0, 0, 0, 0, 0, 0, 0, 0, 0, 0, 0, 0, 0, 0, 0,\n",
       "       0, 0, 0, 0, 0, 0, 0, 0, 0, 0, 0, 0, 0, 0, 0, 0, 0, 0, 0, 0, 0, 0,\n",
       "       0, 0, 0, 0, 0, 0, 0, 0, 0, 0, 0, 0, 0, 0, 0, 0, 0, 0, 0, 0])"
      ]
     },
     "execution_count": 81,
     "metadata": {},
     "output_type": "execute_result"
    }
   ],
   "source": [
    "perceptron.predict(X)"
   ]
  },
  {
   "cell_type": "code",
   "execution_count": null,
   "metadata": {},
   "outputs": [],
   "source": [
    "# Fresh attempt at a function"
   ]
  },
  {
   "cell_type": "markdown",
   "metadata": {
    "colab_type": "text",
    "id": "6QR4oAW1xdyu"
   },
   "source": [
    "## Stretch Goals:\n",
    "\n",
    "- Research \"backpropagation\" to learn how weights get updated in neural networks (tomorrow's lecture). \n",
    "- Implement a multi-layer perceptron. (for non-linearly separable classes)\n",
    "- Try and implement your own backpropagation algorithm.\n",
    "- What are the pros and cons of the different activation functions? How should you decide between them for the different layers of a neural network?"
   ]
  }
 ],
 "metadata": {
  "colab": {
   "collapsed_sections": [],
   "name": "LS_DS_431_Intro_to_NN_Assignment.ipynb",
   "provenance": [],
   "version": "0.3.2"
  },
  "kernelspec": {
   "display_name": "Python 3",
   "language": "python",
   "name": "python3"
  },
  "language_info": {
   "codemirror_mode": {
    "name": "ipython",
    "version": 3
   },
   "file_extension": ".py",
   "mimetype": "text/x-python",
   "name": "python",
   "nbconvert_exporter": "python",
   "pygments_lexer": "ipython3",
   "version": "3.7.4"
  }
 },
 "nbformat": 4,
 "nbformat_minor": 4
}
